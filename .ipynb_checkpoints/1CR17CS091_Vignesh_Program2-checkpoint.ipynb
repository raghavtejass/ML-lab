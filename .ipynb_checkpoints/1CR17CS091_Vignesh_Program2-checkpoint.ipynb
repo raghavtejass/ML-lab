{
 "cells": [
  {
   "cell_type": "code",
   "execution_count": 3,
   "metadata": {
    "colab": {},
    "colab_type": "code",
    "id": "em9nPrHIvOkW"
   },
   "outputs": [],
   "source": [
    "import numpy as np\n",
    "import pandas as pd"
   ]
  },
  {
   "cell_type": "code",
   "execution_count": 4,
   "metadata": {
    "colab": {},
    "colab_type": "code",
    "id": "CzO4-_JYvaqP"
   },
   "outputs": [],
   "source": [
    "data = pd.DataFrame(pd.read_csv(\"train_data.csv\"))\n",
    "concepts = np.array(data.iloc[:,:-1])\n",
    "target = np.array(data.iloc[:,-1])\n"
   ]
  },
  {
   "cell_type": "code",
   "execution_count": 5,
   "metadata": {
    "colab": {
     "base_uri": "https://localhost:8080/",
     "height": 383
    },
    "colab_type": "code",
    "id": "N11nl86n2t5r",
    "outputId": "8cdce44b-6a12-44b9-8ca5-f94752f26d76"
   },
   "outputs": [
    {
     "name": "stdout",
     "output_type": "stream",
     "text": [
      "------------------------------------------Candidate Elimination algorithm---------------------------------------------\n",
      "For training instance 0 the hypothesis is ->\n",
      "Specific hypothesis : ['sunny' 'warm' 'normal' 'strong' 'warm' 'same']\n",
      "General Hypothesis : [['?', '?', '?', '?', '?', '?'], ['?', '?', '?', '?', '?', '?'], ['?', '?', '?', '?', '?', '?'], ['?', '?', '?', '?', '?', '?'], ['?', '?', '?', '?', '?', '?'], ['?', '?', '?', '?', '?', '?']]\n",
      "--------------------------------------------------------------------------------------------------------------\n",
      "For training instance 1 the hypothesis is ->\n",
      "Specific hypothesis : ['sunny' 'warm' '?' 'strong' 'warm' 'same']\n",
      "General Hypothesis : [['?', '?', '?', '?', '?', '?'], ['?', '?', '?', '?', '?', '?'], ['?', '?', '?', '?', '?', '?'], ['?', '?', '?', '?', '?', '?'], ['?', '?', '?', '?', '?', '?'], ['?', '?', '?', '?', '?', '?']]\n",
      "--------------------------------------------------------------------------------------------------------------\n",
      "For training instance 2 the hypothesis is ->\n",
      "Specific hypothesis : ['sunny' 'warm' '?' 'strong' 'warm' 'same']\n",
      "General Hypothesis : [['sunny', '?', '?', '?', '?', '?'], ['?', 'warm', '?', '?', '?', '?'], ['?', '?', '?', '?', '?', '?'], ['?', '?', '?', '?', '?', '?'], ['?', '?', '?', '?', '?', '?'], ['?', '?', '?', '?', '?', 'same']]\n",
      "--------------------------------------------------------------------------------------------------------------\n",
      "For training instance 3 the hypothesis is ->\n",
      "Specific hypothesis : ['sunny' 'warm' '?' 'strong' '?' '?']\n",
      "General Hypothesis : [['sunny', '?', '?', '?', '?', '?'], ['?', 'warm', '?', '?', '?', '?'], ['?', '?', '?', '?', '?', '?'], ['?', '?', '?', '?', '?', '?'], ['?', '?', '?', '?', '?', '?'], ['?', '?', '?', '?', '?', '?']]\n",
      "--------------------------------------------------------------------------------------------------------------\n",
      "Final specific hypothesis -> ['sunny' 'warm' '?' 'strong' '?' '?']\n",
      "Final general hypothesis -> [['sunny', '?', '?', '?', '?', '?'], ['?', 'warm', '?', '?', '?', '?']]\n"
     ]
    }
   ],
   "source": [
    "def learn(concepts,target):\n",
    "    specific = concepts[0].copy()\n",
    "    general =[[\"?\" for i in range(len(specific))] for i in range(len(specific))]\n",
    "    \n",
    "    for i,h in enumerate(concepts):\n",
    "        if target[i] == \"yes\":\n",
    "            for x in range(len(specific)):\n",
    "                if h[x]!= specific[x]:\n",
    "                    specific[x] = \"?\"\n",
    "                    general[x][x] = \"?\"\n",
    "            print(\"For training instance {0} the hypothesis is ->\".format(i))\n",
    "            print(\"Specific hypothesis :\",specific)\n",
    "            print(\"General Hypothesis :\", general)\n",
    "        if target[i] == \"no\":\n",
    "            for x in range(len(specific)):\n",
    "                if h[x]!= specific[x]:\n",
    "                    general[x][x] = specific[x]\n",
    "                else:\n",
    "                    general[x][x] = \"?\"\n",
    "            print(\"For training instance {0} the hypothesis is ->\".format(i))\n",
    "            print(\"Specific hypothesis :\",specific)\n",
    "            print(\"General Hypothesis :\", general)\n",
    "        print(\"--------------------------------------------------------------------------------------------------------------\")\n",
    "    indices = [i for s,val in enumerate(general) if val == [\"?\",\"?\",\"?\",\"?\",\"?\",\"?\"]]\n",
    "    \n",
    "    for s in indices:\n",
    "        general.remove([\"?\",\"?\",\"?\",\"?\",\"?\",\"?\"])\n",
    "    return specific, general\n",
    "print(\"------------------------------------------Candidate Elimination algorithm---------------------------------------------\")\n",
    "s_fin,g_fin = learn(concepts,target)\n",
    "print(\"Final specific hypothesis ->\",s_fin)\n",
    "print(\"Final general hypothesis ->\",g_fin)\n"
   ]
  },
  {
   "cell_type": "code",
   "execution_count": 6,
   "metadata": {
    "colab": {},
    "colab_type": "code",
    "id": "qAqGKN6cvno-"
   },
   "outputs": [],
   "source": [
    "data = pd.DataFrame(pd.read_csv(\"car.csv\"))\n",
    "concepts = np.array(data.iloc[:,:-1])\n",
    "target = np.array(data.iloc[:,-1])\n",
    "\n"
   ]
  },
  {
   "cell_type": "code",
   "execution_count": 7,
   "metadata": {
    "colab": {
     "base_uri": "https://localhost:8080/",
     "height": 601
    },
    "colab_type": "code",
    "id": "Dh_ktVd36gXl",
    "outputId": "9bfee303-a03e-4603-a2a1-409b30247937"
   },
   "outputs": [
    {
     "name": "stdout",
     "output_type": "stream",
     "text": [
      "------------------------------------------Candidate Elimination algorithm---------------------------------------------\n",
      "For training instance 0 the hypothesis is ->\n",
      "Specific hypothesis : ['Japan' 'Honda' 'Blue' 1980 'Economy']\n",
      "General Hypothesis : [['?', '?', '?', '?', '?'], ['?', '?', '?', '?', '?'], ['?', '?', '?', '?', '?'], ['?', '?', '?', '?', '?'], ['?', '?', '?', '?', '?']]\n",
      "--------------------------------------------------------------------------------------------------------------\n",
      "For training instance 1 the hypothesis is ->\n",
      "Specific hypothesis : ['Japan' 'Honda' 'Blue' 1980 'Economy']\n",
      "General Hypothesis : [['?', '?', '?', '?', '?'], ['?', 'Honda', '?', '?', '?'], ['?', '?', 'Blue', '?', '?'], ['?', '?', '?', 1980, '?'], ['?', '?', '?', '?', 'Economy']]\n",
      "--------------------------------------------------------------------------------------------------------------\n",
      "For training instance 2 the hypothesis is ->\n",
      "Specific hypothesis : ['Japan' '?' 'Blue' '?' 'Economy']\n",
      "General Hypothesis : [['?', '?', '?', '?', '?'], ['?', '?', '?', '?', '?'], ['?', '?', 'Blue', '?', '?'], ['?', '?', '?', '?', '?'], ['?', '?', '?', '?', 'Economy']]\n",
      "--------------------------------------------------------------------------------------------------------------\n",
      "For training instance 3 the hypothesis is ->\n",
      "Specific hypothesis : ['Japan' '?' 'Blue' '?' 'Economy']\n",
      "General Hypothesis : [['Japan', '?', '?', '?', '?'], ['?', '?', '?', '?', '?'], ['?', '?', 'Blue', '?', '?'], ['?', '?', '?', '?', '?'], ['?', '?', '?', '?', '?']]\n",
      "--------------------------------------------------------------------------------------------------------------\n",
      "For training instance 4 the hypothesis is ->\n",
      "Specific hypothesis : ['Japan' '?' '?' '?' 'Economy']\n",
      "General Hypothesis : [['Japan', '?', '?', '?', '?'], ['?', '?', '?', '?', '?'], ['?', '?', '?', '?', '?'], ['?', '?', '?', '?', '?'], ['?', '?', '?', '?', '?']]\n",
      "--------------------------------------------------------------------------------------------------------------\n",
      "For training instance 5 the hypothesis is ->\n",
      "Specific hypothesis : ['Japan' '?' '?' '?' 'Economy']\n",
      "General Hypothesis : [['Japan', '?', '?', '?', '?'], ['?', '?', '?', '?', '?'], ['?', '?', '?', '?', '?'], ['?', '?', '?', '?', '?'], ['?', '?', '?', '?', '?']]\n",
      "--------------------------------------------------------------------------------------------------------------\n",
      "For training instance 6 the hypothesis is ->\n",
      "Specific hypothesis : ['Japan' '?' '?' '?' 'Economy']\n",
      "General Hypothesis : [['?', '?', '?', '?', '?'], ['?', '?', '?', '?', '?'], ['?', '?', '?', '?', '?'], ['?', '?', '?', '?', '?'], ['?', '?', '?', '?', '?']]\n",
      "--------------------------------------------------------------------------------------------------------------\n",
      "Final specific hypothesis -> ['Japan' '?' '?' '?' 'Economy']\n",
      "Final general hypothesis -> []\n"
     ]
    }
   ],
   "source": [
    "def learn(concepts,target):\n",
    "    specific = concepts[0].copy()\n",
    "    general =[[\"?\" for i in range(len(specific))] for i in range(len(specific))]\n",
    "    \n",
    "    for i,h in enumerate(concepts):\n",
    "        if target[i] == \"Positive\":\n",
    "            for x in range(len(specific)):\n",
    "                if h[x]!= specific[x]:\n",
    "                    specific[x] = \"?\"\n",
    "                    general[x][x] = \"?\"\n",
    "            print(\"For training instance {0} the hypothesis is ->\".format(i))\n",
    "            print(\"Specific hypothesis :\",specific)\n",
    "            print(\"General Hypothesis :\", general)\n",
    "        if target[i] == \"Negative\":\n",
    "            for x in range(len(specific)):\n",
    "                if h[x]!= specific[x]:\n",
    "                    general[x][x] = specific[x]\n",
    "                else:\n",
    "                    general[x][x] = \"?\"\n",
    "            print(\"For training instance {0} the hypothesis is ->\".format(i))\n",
    "            print(\"Specific hypothesis :\",specific)\n",
    "            print(\"General Hypothesis :\", general)\n",
    "        print(\"--------------------------------------------------------------------------------------------------------------\")\n",
    "    indices = [i for s,val in enumerate(general) if val == [\"?\",\"?\",\"?\",\"?\",\"?\"]]\n",
    "    \n",
    "    for s in indices:\n",
    "        general.remove([\"?\",\"?\",\"?\",\"?\",\"?\"])\n",
    "    return specific, general\n",
    "print(\"------------------------------------------Candidate Elimination algorithm---------------------------------------------\")\n",
    "s_fin,g_fin = learn(concepts,target)\n",
    "print(\"Final specific hypothesis ->\",s_fin)\n",
    "print(\"Final general hypothesis ->\",g_fin)\n"
   ]
  },
  {
   "cell_type": "code",
   "execution_count": null,
   "metadata": {
    "colab": {},
    "colab_type": "code",
    "id": "7Pg1MwoZ6hKL"
   },
   "outputs": [],
   "source": []
  }
 ],
 "metadata": {
  "colab": {
   "name": "1CR17CS091_Vignesh_Program2.ipynb",
   "provenance": []
  },
  "kernelspec": {
   "display_name": "Python 3",
   "language": "python",
   "name": "python3"
  },
  "language_info": {
   "codemirror_mode": {
    "name": "ipython",
    "version": 3
   },
   "file_extension": ".py",
   "mimetype": "text/x-python",
   "name": "python",
   "nbconvert_exporter": "python",
   "pygments_lexer": "ipython3",
   "version": "3.7.6"
  }
 },
 "nbformat": 4,
 "nbformat_minor": 1
}
