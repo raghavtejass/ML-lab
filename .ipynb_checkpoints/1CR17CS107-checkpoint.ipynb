{
 "cells": [
  {
   "cell_type": "markdown",
   "metadata": {},
   "source": []
  },
  {
   "cell_type": "code",
   "execution_count": 23,
   "metadata": {},
   "outputs": [],
   "source": [
    "import numpy as np\n",
    "import pandas as pd"
   ]
  },
  {
   "cell_type": "code",
   "execution_count": 24,
   "metadata": {},
   "outputs": [
    {
     "name": "stdout",
     "output_type": "stream",
     "text": [
      "(4, 7)\n",
      "The training data is: \n",
      "     Sky AirTemp Humidity    Wind Water Forecast EnjoySport\n",
      "0  sunny    warm   normal  strong  warm     same        yes\n",
      "1  sunny    warm     high  strong  warm     same        yes\n",
      "2  rainy    cold     high  strong  warm   change         no\n",
      "3  sunny    warm     high  strong  cool   change        yes\n"
     ]
    }
   ],
   "source": [
    "data=pd.DataFrame(pd.read_csv('program2_dataset.csv'))\n",
    "print(data.shape)\n",
    "print(\"The training data is: \")\n",
    "print(data)\n",
    "concepts=np.array(data.iloc[:,:-1])\n",
    "target=np.array(data.iloc[:,-1])\n"
   ]
  },
  {
   "cell_type": "code",
   "execution_count": 25,
   "metadata": {},
   "outputs": [],
   "source": [
    "def learn(concepts,target):\n",
    "    specific_h=concepts[0].copy()\n",
    "    general_h=[[\"?\" for i in range(len(specific_h))] for i in range(len(specific_h))]\n",
    "    \n",
    "    for i,h in enumerate(concepts):\n",
    "        if target[i]==\"yes\":\n",
    "            for x in range(len(specific_h)):\n",
    "                if h[x]!=specific_h[x]:\n",
    "                    specific_h[x]='?'\n",
    "                    general_h[x][x]='?'\n",
    "            print(\" \\n\\nFor Training instance No:{0} the hypothesis is\\n\".format(i))\n",
    "            print(\"Specific Hypothesis: \",specific_h)\n",
    "            print(\"General Hypothesis: \",general_h)\n",
    "        if target[i]==\"no\":\n",
    "            for x in range(len(specific_h)):\n",
    "                if h[x]!=specific_h[x]:\n",
    "                    general_h[x][x]=specific_h[x]\n",
    "                else:\n",
    "                    general_h[x][x]='?'\n",
    "            print(\" \\n\\nFor Training instance No:{0} the hypothesis is\\n\".format(i))\n",
    "            print(\"Specific Hypothesis: \",specific_h)\n",
    "            print(\"General Hypothesis: \",general_h)\n",
    "    indices=[i for i,val in enumerate(general_h) if val==['?','?','?','?','?','?']]\n",
    "    \n",
    "    for i in indices:\n",
    "        general_h.remove(['?','?','?','?','?','?'])\n",
    "        \n",
    "    return specific_h,general_h"
   ]
  },
  {
   "cell_type": "code",
   "execution_count": 26,
   "metadata": {},
   "outputs": [
    {
     "name": "stdout",
     "output_type": "stream",
     "text": [
      "Ramya T\n",
      "1CR17CS107\n",
      "******************** Program 2 - Candidate Elimination Algorithm ********************\n",
      " \n",
      "\n",
      "For Training instance No:0 the hypothesis is\n",
      "\n",
      "Specific Hypothesis:  ['sunny' 'warm' 'normal' 'strong' 'warm' 'same']\n",
      "General Hypothesis:  [['?', '?', '?', '?', '?', '?'], ['?', '?', '?', '?', '?', '?'], ['?', '?', '?', '?', '?', '?'], ['?', '?', '?', '?', '?', '?'], ['?', '?', '?', '?', '?', '?'], ['?', '?', '?', '?', '?', '?']]\n",
      " \n",
      "\n",
      "For Training instance No:1 the hypothesis is\n",
      "\n",
      "Specific Hypothesis:  ['sunny' 'warm' '?' 'strong' 'warm' 'same']\n",
      "General Hypothesis:  [['?', '?', '?', '?', '?', '?'], ['?', '?', '?', '?', '?', '?'], ['?', '?', '?', '?', '?', '?'], ['?', '?', '?', '?', '?', '?'], ['?', '?', '?', '?', '?', '?'], ['?', '?', '?', '?', '?', '?']]\n",
      " \n",
      "\n",
      "For Training instance No:2 the hypothesis is\n",
      "\n",
      "Specific Hypothesis:  ['sunny' 'warm' '?' 'strong' 'warm' 'same']\n",
      "General Hypothesis:  [['sunny', '?', '?', '?', '?', '?'], ['?', 'warm', '?', '?', '?', '?'], ['?', '?', '?', '?', '?', '?'], ['?', '?', '?', '?', '?', '?'], ['?', '?', '?', '?', '?', '?'], ['?', '?', '?', '?', '?', 'same']]\n",
      " \n",
      "\n",
      "For Training instance No:3 the hypothesis is\n",
      "\n",
      "Specific Hypothesis:  ['sunny' 'warm' '?' 'strong' '?' '?']\n",
      "General Hypothesis:  [['sunny', '?', '?', '?', '?', '?'], ['?', 'warm', '?', '?', '?', '?'], ['?', '?', '?', '?', '?', '?'], ['?', '?', '?', '?', '?', '?'], ['?', '?', '?', '?', '?', '?'], ['?', '?', '?', '?', '?', '?']]\n",
      "\n",
      "\n",
      "Final Specific hypothesis: ['sunny' 'warm' '?' 'strong' '?' '?']\n",
      "General Specific hypothesis: [['sunny', '?', '?', '?', '?', '?'], ['?', 'warm', '?', '?', '?', '?']]\n"
     ]
    }
   ],
   "source": [
    "print(\"Ramya T\")\n",
    "print(\"1CR17CS107\")\n",
    "print(\"*\"*20,\"Program 2 - Candidate Elimination Algorithm\",\"*\"*20)\n",
    "s_final,g_final=learn(concepts,target)\n",
    "print(\"\\n\\nFinal Specific hypothesis:\",s_final)\n",
    "print(\"General Specific hypothesis:\",g_final)"
   ]
  },
  {
   "cell_type": "markdown",
   "metadata": {},
   "source": [
    "### Extra  Program 1CR17CS107"
   ]
  },
  {
   "cell_type": "code",
   "execution_count": 27,
   "metadata": {},
   "outputs": [],
   "source": [
    "import numpy as np\n",
    "import pandas as pd"
   ]
  },
  {
   "cell_type": "code",
   "execution_count": 28,
   "metadata": {},
   "outputs": [
    {
     "name": "stdout",
     "output_type": "stream",
     "text": [
      "The training data is: \n",
      "  Origin Manufacturer  Color  decade     type exampleType\n",
      "0  japan        honda   blue    1980  economy    positive\n",
      "1  japan       toyota  green    1970   sports    negative\n",
      "2  japan       toyota   blue    1990  economy    positive\n",
      "3    usa     chrysler    red    1980  economy    negative\n",
      "4  japan        honda  white    1980  economy    positive\n",
      "5  japan       toyota  green    1980  economy    positive\n",
      "6  japan        honda    red    1990  economy    negative\n"
     ]
    }
   ],
   "source": [
    "data=pd.DataFrame(pd.read_csv('program2_dataset_extra.csv'))\n",
    "print(\"The training data is: \")\n",
    "print(data)\n",
    "concepts=np.array(data.iloc[:,:-1])\n",
    "target=np.array(data.iloc[:,-1])\n"
   ]
  },
  {
   "cell_type": "code",
   "execution_count": 29,
   "metadata": {},
   "outputs": [
    {
     "name": "stdout",
     "output_type": "stream",
     "text": [
      "Ramya T\n",
      "1CR17CS107\n",
      "------------------------------------------Candidate Elimination algorithm Extra Program---------------------------------------------\n",
      "For training instance 0 the hypothesis is \n",
      "Specific hypothesis ['japan' 'honda' 'blue' 1980 'economy']\n",
      "General Hypothesis [['?', '?', '?', '?', '?'], ['?', '?', '?', '?', '?'], ['?', '?', '?', '?', '?'], ['?', '?', '?', '?', '?'], ['?', '?', '?', '?', '?']]\n",
      "--------------------------------------------------------------------------------------------------------------\n",
      "For training instance 1 the hypothesis is \n",
      "Specific hypothesis ['japan' 'honda' 'blue' 1980 'economy']\n",
      "General Hypothesis [['?', '?', '?', '?', '?'], ['?', 'honda', '?', '?', '?'], ['?', '?', 'blue', '?', '?'], ['?', '?', '?', 1980, '?'], ['?', '?', '?', '?', 'economy']]\n",
      "--------------------------------------------------------------------------------------------------------------\n",
      "For training instance 2 the hypothesis is \n",
      "Specific hypothesis ['japan' '?' 'blue' '?' 'economy']\n",
      "General Hypothesis [['?', '?', '?', '?', '?'], ['?', '?', '?', '?', '?'], ['?', '?', 'blue', '?', '?'], ['?', '?', '?', '?', '?'], ['?', '?', '?', '?', 'economy']]\n",
      "--------------------------------------------------------------------------------------------------------------\n",
      "For training instance 3 the hypothesis is \n",
      "Specific hypothesis ['japan' '?' 'blue' '?' 'economy']\n",
      "General Hypothesis [['japan', '?', '?', '?', '?'], ['?', '?', '?', '?', '?'], ['?', '?', 'blue', '?', '?'], ['?', '?', '?', '?', '?'], ['?', '?', '?', '?', '?']]\n",
      "--------------------------------------------------------------------------------------------------------------\n",
      "For training instance 4 the hypothesis is \n",
      "Specific hypothesis ['japan' '?' '?' '?' 'economy']\n",
      "General Hypothesis [['japan', '?', '?', '?', '?'], ['?', '?', '?', '?', '?'], ['?', '?', '?', '?', '?'], ['?', '?', '?', '?', '?'], ['?', '?', '?', '?', '?']]\n",
      "--------------------------------------------------------------------------------------------------------------\n",
      "For training instance 5 the hypothesis is \n",
      "Specific hypothesis ['japan' '?' '?' '?' 'economy']\n",
      "General Hypothesis [['japan', '?', '?', '?', '?'], ['?', '?', '?', '?', '?'], ['?', '?', '?', '?', '?'], ['?', '?', '?', '?', '?'], ['?', '?', '?', '?', '?']]\n",
      "--------------------------------------------------------------------------------------------------------------\n",
      "For training instance 6 the hypothesis is \n",
      "Specific hypothesis ['japan' '?' '?' '?' 'economy']\n",
      "General Hypothesis [['?', '?', '?', '?', '?'], ['?', '?', '?', '?', '?'], ['?', '?', '?', '?', '?'], ['?', '?', '?', '?', '?'], ['?', '?', '?', '?', '?']]\n",
      "--------------------------------------------------------------------------------------------------------------\n",
      "final specific hypothesis ['japan' '?' '?' '?' 'economy']\n",
      "final general hypothesis []\n"
     ]
    }
   ],
   "source": [
    "\n",
    "def learn(concepts,target):\n",
    "    specific_h = concepts[0].copy()\n",
    "    general_h =[[\"?\" for i in range(len(specific_h))] for i in range(len(specific_h))]\n",
    "    \n",
    "    for i,h in enumerate(concepts):\n",
    "        if target[i] == \"positive\":\n",
    "            for x in range(len(specific_h)):\n",
    "                if h[x]!= specific_h[x]:\n",
    "                    specific_h[x] = \"?\"\n",
    "                    general_h[x][x] = \"?\"\n",
    "            print(\"For training instance {0} the hypothesis is \".format(i))\n",
    "            print(\"Specific hypothesis\",specific_h)\n",
    "            print(\"General Hypothesis\", general_h)\n",
    "        if target[i] == \"negative\":\n",
    "            for x in range(len(specific_h)):\n",
    "                if h[x]!= specific_h[x]:\n",
    "                    general_h[x][x] = specific_h[x]\n",
    "                else:\n",
    "                    general_h[x][x] = \"?\"\n",
    "            print(\"For training instance {0} the hypothesis is \".format(i))\n",
    "            print(\"Specific hypothesis\",specific_h)\n",
    "            print(\"General Hypothesis\", general_h)\n",
    "        print(\"--------------------------------------------------------------------------------------------------------------\")\n",
    "    indices = [i for s,val in enumerate(general_h) if val == [\"?\",\"?\",\"?\",\"?\",\"?\"]]\n",
    "    \n",
    "    for s in indices:\n",
    "        general_h.remove([\"?\",\"?\",\"?\",\"?\",\"?\"])\n",
    "    return specific_h, general_h\n",
    "\n",
    "print(\"Ramya T\")\n",
    "print(\"1CR17CS107\")\n",
    "print(\"------------------------------------------Candidate Elimination algorithm Extra Program---------------------------------------------\")\n",
    "s_final,g_final = learn(concepts,target)\n",
    "print(\"final specific hypothesis\",s_final)\n",
    "print(\"final general hypothesis\",g_final)\n"
   ]
  },
  {
   "cell_type": "code",
   "execution_count": null,
   "metadata": {},
   "outputs": [],
   "source": []
  }
 ],
 "metadata": {
  "kernelspec": {
   "display_name": "Python 3",
   "language": "python",
   "name": "python3"
  },
  "language_info": {
   "codemirror_mode": {
    "name": "ipython",
    "version": 3
   },
   "file_extension": ".py",
   "mimetype": "text/x-python",
   "name": "python",
   "nbconvert_exporter": "python",
   "pygments_lexer": "ipython3",
   "version": "3.7.6"
  }
 },
 "nbformat": 4,
 "nbformat_minor": 2
}
