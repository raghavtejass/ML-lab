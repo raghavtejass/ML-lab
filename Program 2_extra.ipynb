{
 "cells": [
  {
   "cell_type": "code",
   "execution_count": 1,
   "metadata": {},
   "outputs": [],
   "source": [
    "import numpy as np\n",
    "import pandas as pd"
   ]
  },
  {
   "cell_type": "code",
   "execution_count": 4,
   "metadata": {},
   "outputs": [
    {
     "name": "stdout",
     "output_type": "stream",
     "text": [
      "The training data is: \n"
     ]
    },
    {
     "data": {
      "text/html": [
       "<div>\n",
       "<style scoped>\n",
       "    .dataframe tbody tr th:only-of-type {\n",
       "        vertical-align: middle;\n",
       "    }\n",
       "\n",
       "    .dataframe tbody tr th {\n",
       "        vertical-align: top;\n",
       "    }\n",
       "\n",
       "    .dataframe thead th {\n",
       "        text-align: right;\n",
       "    }\n",
       "</style>\n",
       "<table border=\"1\" class=\"dataframe\">\n",
       "  <thead>\n",
       "    <tr style=\"text-align: right;\">\n",
       "      <th></th>\n",
       "      <th>Origin</th>\n",
       "      <th>Manufacturer</th>\n",
       "      <th>Color</th>\n",
       "      <th>Decade</th>\n",
       "      <th>Type</th>\n",
       "      <th>ExampleType</th>\n",
       "    </tr>\n",
       "  </thead>\n",
       "  <tbody>\n",
       "    <tr>\n",
       "      <th>0</th>\n",
       "      <td>Japan</td>\n",
       "      <td>honda</td>\n",
       "      <td>blue</td>\n",
       "      <td>1980</td>\n",
       "      <td>economy</td>\n",
       "      <td>Positive</td>\n",
       "    </tr>\n",
       "    <tr>\n",
       "      <th>1</th>\n",
       "      <td>Japan</td>\n",
       "      <td>toyota</td>\n",
       "      <td>green</td>\n",
       "      <td>1970</td>\n",
       "      <td>sports</td>\n",
       "      <td>Negative</td>\n",
       "    </tr>\n",
       "    <tr>\n",
       "      <th>2</th>\n",
       "      <td>Japan</td>\n",
       "      <td>toyota</td>\n",
       "      <td>blue</td>\n",
       "      <td>1990</td>\n",
       "      <td>economy</td>\n",
       "      <td>Positive</td>\n",
       "    </tr>\n",
       "    <tr>\n",
       "      <th>3</th>\n",
       "      <td>Usa</td>\n",
       "      <td>chrysler</td>\n",
       "      <td>red</td>\n",
       "      <td>1980</td>\n",
       "      <td>economy</td>\n",
       "      <td>Negative</td>\n",
       "    </tr>\n",
       "    <tr>\n",
       "      <th>4</th>\n",
       "      <td>Japan</td>\n",
       "      <td>honda</td>\n",
       "      <td>white</td>\n",
       "      <td>1980</td>\n",
       "      <td>economy</td>\n",
       "      <td>Positive</td>\n",
       "    </tr>\n",
       "    <tr>\n",
       "      <th>5</th>\n",
       "      <td>Japan</td>\n",
       "      <td>toyota</td>\n",
       "      <td>green</td>\n",
       "      <td>1980</td>\n",
       "      <td>economy</td>\n",
       "      <td>Positive</td>\n",
       "    </tr>\n",
       "    <tr>\n",
       "      <th>6</th>\n",
       "      <td>Japan</td>\n",
       "      <td>honda</td>\n",
       "      <td>red</td>\n",
       "      <td>1990</td>\n",
       "      <td>economy</td>\n",
       "      <td>Negative</td>\n",
       "    </tr>\n",
       "  </tbody>\n",
       "</table>\n",
       "</div>"
      ],
      "text/plain": [
       "  Origin Manufacturer  Color  Decade     Type ExampleType\n",
       "0  Japan        honda   blue    1980  economy    Positive\n",
       "1  Japan       toyota  green    1970   sports    Negative\n",
       "2  Japan       toyota   blue    1990  economy    Positive\n",
       "3    Usa     chrysler    red    1980  economy    Negative\n",
       "4  Japan        honda  white    1980  economy    Positive\n",
       "5  Japan       toyota  green    1980  economy    Positive\n",
       "6  Japan        honda    red    1990  economy    Negative"
      ]
     },
     "execution_count": 4,
     "metadata": {},
     "output_type": "execute_result"
    }
   ],
   "source": [
    "data=pd.DataFrame(pd.read_csv('cars.csv'))\n",
    "print(\"The training data is: \")\n",
    "data"
   ]
  },
  {
   "cell_type": "code",
   "execution_count": 7,
   "metadata": {},
   "outputs": [],
   "source": [
    "concepts=np.array(data.iloc[:,:-1])\n",
    "target=np.array(data.iloc[:,-1])\n"
   ]
  },
  {
   "cell_type": "code",
   "execution_count": 14,
   "metadata": {},
   "outputs": [],
   "source": [
    "def learn(concepts,target):\n",
    "    specific_h = concepts[0].copy()\n",
    "    general_h =[[\"?\" for i in range(len(specific_h))] for i in range(len(specific_h))]\n",
    "    \n",
    "    for i,h in enumerate(concepts):\n",
    "        if target[i] == \"Positive\":\n",
    "            for x in range(len(specific_h)):\n",
    "                if h[x]!= specific_h[x]:\n",
    "                    specific_h[x] = \"?\"\n",
    "                    general_h[x][x] = \"?\"\n",
    "            print(\"For training instance {0} the hypothesis is \".format(i))\n",
    "            print(\"Specific hypothesis\",specific_h)\n",
    "            print(\"General Hypothesis\", general_h)\n",
    "            print(\"\\n\")\n",
    "        if target[i] == \"Negative\":\n",
    "            for x in range(len(specific_h)):\n",
    "                if h[x]!= specific_h[x]:\n",
    "                    general_h[x][x] = specific_h[x]\n",
    "                else:\n",
    "                    general_h[x][x] = \"?\"\n",
    "            print(\"For training instance {0} the hypothesis is \".format(i))\n",
    "            print(\"Specific hypothesis\",specific_h)\n",
    "            print(\"General Hypothesis\", general_h)\n",
    "            print(\"\\n\")\n",
    "    indices = [i for s,val in enumerate(general_h) if val == [\"?\",\"?\",\"?\",\"?\",\"?\"]]\n",
    "    \n",
    "    for s in indices:\n",
    "        general_h.remove([\"?\",\"?\",\"?\",\"?\",\"?\"])\n",
    "    return specific_h, general_h\n"
   ]
  },
  {
   "cell_type": "code",
   "execution_count": 15,
   "metadata": {},
   "outputs": [
    {
     "name": "stdout",
     "output_type": "stream",
     "text": [
      "------------------------------------------Candidate Elimination algorithm Extra Program----------------------------------------\n",
      "For training instance 0 the hypothesis is \n",
      "Specific hypothesis ['Japan' 'honda' 'blue' 1980 'economy']\n",
      "General Hypothesis [['?', '?', '?', '?', '?'], ['?', '?', '?', '?', '?'], ['?', '?', '?', '?', '?'], ['?', '?', '?', '?', '?'], ['?', '?', '?', '?', '?']]\n",
      "\n",
      "\n",
      "For training instance 1 the hypothesis is \n",
      "Specific hypothesis ['Japan' 'honda' 'blue' 1980 'economy']\n",
      "General Hypothesis [['?', '?', '?', '?', '?'], ['?', 'honda', '?', '?', '?'], ['?', '?', 'blue', '?', '?'], ['?', '?', '?', 1980, '?'], ['?', '?', '?', '?', 'economy']]\n",
      "\n",
      "\n",
      "For training instance 2 the hypothesis is \n",
      "Specific hypothesis ['Japan' '?' 'blue' '?' 'economy']\n",
      "General Hypothesis [['?', '?', '?', '?', '?'], ['?', '?', '?', '?', '?'], ['?', '?', 'blue', '?', '?'], ['?', '?', '?', '?', '?'], ['?', '?', '?', '?', 'economy']]\n",
      "\n",
      "\n",
      "For training instance 3 the hypothesis is \n",
      "Specific hypothesis ['Japan' '?' 'blue' '?' 'economy']\n",
      "General Hypothesis [['Japan', '?', '?', '?', '?'], ['?', '?', '?', '?', '?'], ['?', '?', 'blue', '?', '?'], ['?', '?', '?', '?', '?'], ['?', '?', '?', '?', '?']]\n",
      "\n",
      "\n",
      "For training instance 4 the hypothesis is \n",
      "Specific hypothesis ['Japan' '?' '?' '?' 'economy']\n",
      "General Hypothesis [['Japan', '?', '?', '?', '?'], ['?', '?', '?', '?', '?'], ['?', '?', '?', '?', '?'], ['?', '?', '?', '?', '?'], ['?', '?', '?', '?', '?']]\n",
      "\n",
      "\n",
      "For training instance 5 the hypothesis is \n",
      "Specific hypothesis ['Japan' '?' '?' '?' 'economy']\n",
      "General Hypothesis [['Japan', '?', '?', '?', '?'], ['?', '?', '?', '?', '?'], ['?', '?', '?', '?', '?'], ['?', '?', '?', '?', '?'], ['?', '?', '?', '?', '?']]\n",
      "\n",
      "\n",
      "For training instance 6 the hypothesis is \n",
      "Specific hypothesis ['Japan' '?' '?' '?' 'economy']\n",
      "General Hypothesis [['?', '?', '?', '?', '?'], ['?', '?', '?', '?', '?'], ['?', '?', '?', '?', '?'], ['?', '?', '?', '?', '?'], ['?', '?', '?', '?', '?']]\n",
      "\n",
      "\n",
      "final specific hypothesis ['Japan' '?' '?' '?' 'economy']\n",
      "final general hypothesis []\n"
     ]
    }
   ],
   "source": [
    "print(\"------------------------------------------Candidate Elimination algorithm Extra Program----------------------------------------\")\n",
    "s_final,g_final = learn(concepts,target)\n",
    "print(\"final specific hypothesis\",s_final)\n",
    "print(\"final general hypothesis\",g_final)\n"
   ]
  },
  {
   "cell_type": "code",
   "execution_count": null,
   "metadata": {},
   "outputs": [],
   "source": []
  }
 ],
 "metadata": {
  "kernelspec": {
   "display_name": "Python 3",
   "language": "python",
   "name": "python3"
  },
  "language_info": {
   "codemirror_mode": {
    "name": "ipython",
    "version": 3
   },
   "file_extension": ".py",
   "mimetype": "text/x-python",
   "name": "python",
   "nbconvert_exporter": "python",
   "pygments_lexer": "ipython3",
   "version": "3.8.1"
  }
 },
 "nbformat": 4,
 "nbformat_minor": 4
}
